{
 "cells": [
  {
   "cell_type": "code",
   "execution_count": 1,
   "id": "05034b26",
   "metadata": {},
   "outputs": [
    {
     "name": "stdout",
     "output_type": "stream",
     "text": [
      "message\n"
     ]
    }
   ],
   "source": [
    "# Task 1\n",
    "\n",
    "v = \"message\"\n",
    "print(v)"
   ]
  },
  {
   "cell_type": "code",
   "execution_count": 4,
   "id": "73d2bc7c",
   "metadata": {},
   "outputs": [
    {
     "name": "stdout",
     "output_type": "stream",
     "text": [
      "Albert Einstein once said,  “A person who never made a mistake never tried anything new.”\n"
     ]
    }
   ],
   "source": [
    "# Task 2: Quote\n",
    "\n",
    "Quote = '“A person who never made a mistake never tried anything new.”'\n",
    "print(\"Albert Einstein once said, \", Quote)"
   ]
  },
  {
   "cell_type": "code",
   "execution_count": 13,
   "id": "c98ccd1a",
   "metadata": {},
   "outputs": [
    {
     "name": "stdout",
     "output_type": "stream",
     "text": [
      "Input Radius: 0.5\n",
      "Area of Circle with radius  0.5 is  0.7855\n"
     ]
    }
   ],
   "source": [
    "# Task 3: Area of Circle\n",
    "\n",
    "x = float(input(\"Input Radius: \"))\n",
    "y = 3.142 * (x * x)\n",
    "\n",
    "print(\"Area of Circle with radius \", x, \"is \", y)"
   ]
  },
  {
   "cell_type": "code",
   "execution_count": 20,
   "id": "965dcace",
   "metadata": {},
   "outputs": [
    {
     "name": "stdout",
     "output_type": "stream",
     "text": [
      "Enter number: 458\n",
      "Number is positive\n"
     ]
    }
   ],
   "source": [
    "# Task 4: Number tester\n",
    "\n",
    "x = int(input(\"Enter number: \"))\n",
    "\n",
    "if x < 0:\n",
    "    print(\"Number is negative\")\n",
    "elif x == 0:\n",
    "    print(\"Number is zero\")\n",
    "else:\n",
    "    print(\"Number is positive\")\n",
    "        \n",
    "        "
   ]
  },
  {
   "cell_type": "code",
   "execution_count": 6,
   "id": "d31ba837",
   "metadata": {},
   "outputs": [
    {
     "name": "stdout",
     "output_type": "stream",
     "text": [
      "Enter a character: a\n",
      "Letter a is Vowel\n"
     ]
    }
   ],
   "source": [
    "# Task 5 Vowel tester\n",
    "\n",
    "vowels = [\"A\", \"E\" , \"I\" , \"O\" , \"U\" , \"a\", \"e\", \"i\", \"o\", \"u\"]\n",
    "letter = input(\"Enter a character: \")\n",
    "if letter in vowels:\n",
    "    print(\"Letter \" + letter + \" is Vowel\")\n",
    "else:\n",
    "    print(\"Letter \" + letter + \" is not Vowel\")"
   ]
  },
  {
   "cell_type": "code",
   "execution_count": 8,
   "id": "71e2d8a1",
   "metadata": {},
   "outputs": [
    {
     "name": "stdout",
     "output_type": "stream",
     "text": [
      "Enter Height in Cm: 180\n",
      "Enter Wegiht in Kg: 75\n",
      "Your BMI is 23.148148148148145\n"
     ]
    }
   ],
   "source": [
    "# Task 6: BMI Calculator\n",
    "\n",
    "height = int(input(\"Enter Height in Cm: \"))\n",
    "weight = int(input(\"Enter Wegiht in Kg: \"))\n",
    "\n",
    "height_in_m = height/100\n",
    "bmi = weight / (height_in_m * height_in_m)\n",
    "bmi = str(bmi)\n",
    "\n",
    "\n",
    "print(\"Your BMI is \" + bmi)"
   ]
  },
  {
   "cell_type": "code",
   "execution_count": 11,
   "id": "d4f5bf0d",
   "metadata": {},
   "outputs": [
    {
     "name": "stdout",
     "output_type": "stream",
     "text": [
      "safi\n",
      "bilal\n",
      "ali\n",
      "tabish\n",
      "junaid\n"
     ]
    }
   ],
   "source": [
    "# Task 7: List of friend's name \n",
    "\n",
    "names = [\"safi\", \"bilal\", \"ali\", \"tabish\", \"junaid\"]\n",
    "for a_friend_name in names:\n",
    "    print(a_friend_name)"
   ]
  },
  {
   "cell_type": "code",
   "execution_count": 13,
   "id": "2ec6ee38",
   "metadata": {},
   "outputs": [
    {
     "name": "stdout",
     "output_type": "stream",
     "text": [
      "Hi safi, you are a good friend.\n",
      "Hi bilal, you are a good friend.\n",
      "Hi ali, you are a good friend.\n",
      "Hi tabish, you are a good friend.\n",
      "Hi junaid, you are a good friend.\n"
     ]
    }
   ],
   "source": [
    "# Task 7: List of friend's name with personalized message\n",
    "\n",
    "names = [\"safi\", \"bilal\", \"ali\", \"tabish\", \"junaid\"]\n",
    "for a_friend_name in names:\n",
    "    print(\"Hi \" + a_friend_name + \", you are a good friend.\")"
   ]
  },
  {
   "cell_type": "code",
   "execution_count": 20,
   "id": "40c38585",
   "metadata": {},
   "outputs": [
    {
     "name": "stdout",
     "output_type": "stream",
     "text": [
      "The first three items in the list are:  ['biryani', 'nihari', 'paaya']\n",
      "Three items from the middle of the list are:  ['haleem', 'pulao', 'daal chawal']\n",
      "The last three items in the list are:  ['brain masala', 'karhaai', 'tikka']\n"
     ]
    }
   ],
   "source": [
    "# Task 8: Nine favourite dishes\n",
    "\n",
    "foods = [\"biryani\" , \"nihari\" , \"paaya\" , \"haleem\" , \"pulao\" , \"daal chawal\" , \"brain masala\" , \"karhaai\" , \"tikka\"]\n",
    "\n",
    "print(\"The first three items in the list are: \" , foods[:3])\n",
    "print(\"Three items from the middle of the list are: \" , foods[3:6])\n",
    "print(\"The last three items in the list are: \" , foods[6:])"
   ]
  },
  {
   "cell_type": "code",
   "execution_count": 34,
   "id": "311b4b38",
   "metadata": {},
   "outputs": [
    {
     "name": "stdout",
     "output_type": "stream",
     "text": [
      "['pizza', 'biryani', 'nihari', 'paaya', 'haleem', 'pulao', 'daal chawal', 'brain masala', 'karhaai', 'tikka']\n",
      "['burger', 'biryani', 'nihari', 'paaya', 'haleem', 'pulao', 'daal chawal', 'brain masala', 'karhaai', 'tikka']\n",
      "My favorite foods are pizza\n",
      "My favorite foods are biryani\n",
      "My favorite foods are nihari\n",
      "My favorite foods are paaya\n",
      "My favorite foods are haleem\n",
      "My favorite foods are pulao\n",
      "My favorite foods are daal chawal\n",
      "My favorite foods are brain masala\n",
      "My favorite foods are karhaai\n",
      "My favorite foods are tikka\n",
      "My friend's favorite foods are burger\n",
      "My friend's favorite foods are biryani\n",
      "My friend's favorite foods are nihari\n",
      "My friend's favorite foods are paaya\n",
      "My friend's favorite foods are haleem\n",
      "My friend's favorite foods are pulao\n",
      "My friend's favorite foods are daal chawal\n",
      "My friend's favorite foods are brain masala\n",
      "My friend's favorite foods are karhaai\n",
      "My friend's favorite foods are tikka\n"
     ]
    }
   ],
   "source": [
    "# Task 9 \n",
    "\n",
    "foods = [\"biryani\" , \"nihari\" , \"paaya\" , \"haleem\" , \"pulao\" , \"daal chawal\" , \"brain masala\" , \"karhaai\" , \"tikka\"]\n",
    "friend_foods = [\"biryani\" , \"nihari\" , \"paaya\" , \"haleem\" , \"pulao\" , \"daal chawal\" , \"brain masala\" , \"karhaai\" , \"tikka\"]\n",
    "\n",
    "foods.insert(0,\"pizza\")\n",
    "friend_foods.insert(0,\"burger\")\n",
    "\n",
    "print(foods)\n",
    "print(friend_foods)\n",
    "\n",
    "for my_fav_foods in foods:\n",
    "    print(\"My favorite foods are\",my_fav_foods)\n",
    "    \n",
    "for friend_fav_foods in friend_foods:\n",
    "    print(\"My friend's favorite foods are\", friend_fav_foods)"
   ]
  },
  {
   "cell_type": "code",
   "execution_count": null,
   "id": "2269c273",
   "metadata": {},
   "outputs": [],
   "source": []
  }
 ],
 "metadata": {
  "kernelspec": {
   "display_name": "Python 3 (ipykernel)",
   "language": "python",
   "name": "python3"
  },
  "language_info": {
   "codemirror_mode": {
    "name": "ipython",
    "version": 3
   },
   "file_extension": ".py",
   "mimetype": "text/x-python",
   "name": "python",
   "nbconvert_exporter": "python",
   "pygments_lexer": "ipython3",
   "version": "3.9.12"
  }
 },
 "nbformat": 4,
 "nbformat_minor": 5
}
